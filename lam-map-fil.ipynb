{
 "cells": [
  {
   "cell_type": "code",
   "execution_count": null,
   "metadata": {},
   "outputs": [],
   "source": [
    "# python programme to sort list of tuples based on the integers value using lambda function\n",
    "players = [(\"jack kallis\",25534),(\"sachin tendulkar\",34357),(\"virat kohli\",24936),(\"Ricky ponting\",27483)]\n",
    "sort_players = sorted(players, key = lambda x: x[1])\n",
    "for index,item in enumerate(sort_players):\n",
    "    print(index,\" :\",item)"
   ]
  },
  {
   "cell_type": "code",
   "execution_count": 41,
   "metadata": {},
   "outputs": [
    {
     "name": "stdout",
     "output_type": "stream",
     "text": [
      "['php', 'aba', 'radar', 'level']\n"
     ]
    }
   ],
   "source": [
    "# programmme to find the square of all numbers in a list of integers using lambda and map function\n",
    "l=[1,2,3,4,5,6,7,8,9,10]\n",
    "list( map (lambda x : x**2,l))\n",
    "\n",
    "# programme to convert a given list into a string using map and lambda function\n",
    "l=[1,2,3,4,5,6,7,8,9,10]\n",
    "list ( map (lambda x : str(x),l ))\n",
    "\n",
    "# programme to use reduce to find product all numbers in a list containing 1 - 25 numbers\n",
    "from functools import reduce\n",
    "l=[1,2,3,4,5]\n",
    "reduce (lambda x,y : x*y,l)\n",
    "\n",
    "# programme to filter the numbers in a list that are divisible by 2or 3 using filter function\n",
    "l=[2,3,6,9,27,60,90,120,55,46]\n",
    "list (filter (lambda x : (x%2)==0 or (x%3)==0 , l))\n",
    "\n",
    "#programme to find panlindrome in the given list of string using lambda and filter function\n",
    "l=['python','php','aba','radar','level']\n",
    "is_palindrome = lambda s : s == s[::-1]\n",
    "palindrome = list (filter (is_palindrome,l))\n",
    "print(palindrome)\n"
   ]
  }
 ],
 "metadata": {
  "kernelspec": {
   "display_name": "Python 3",
   "language": "python",
   "name": "python3"
  },
  "language_info": {
   "codemirror_mode": {
    "name": "ipython",
    "version": 3
   },
   "file_extension": ".py",
   "mimetype": "text/x-python",
   "name": "python",
   "nbconvert_exporter": "python",
   "pygments_lexer": "ipython3",
   "version": "3.12.3"
  }
 },
 "nbformat": 4,
 "nbformat_minor": 2
}
